{
 "cells": [
  {
   "cell_type": "markdown",
   "id": "03682722",
   "metadata": {},
   "source": [
    "# Trabalho - Working Python\n",
    "## Prof. André Insardi\n",
    "### André Pereira - RM 345063"
   ]
  },
  {
   "cell_type": "code",
   "execution_count": 51,
   "id": "66e51879",
   "metadata": {},
   "outputs": [],
   "source": [
    "import pandas as pd"
   ]
  },
  {
   "cell_type": "code",
   "execution_count": 52,
   "id": "974c1972",
   "metadata": {},
   "outputs": [
    {
     "name": "stdout",
     "output_type": "stream",
     "text": [
      "<class 'pandas.core.frame.DataFrame'>\n",
      "Int64Index: 60000 entries, 0 to 9999\n",
      "Data columns (total 17 columns):\n",
      " #   Column                  Non-Null Count  Dtype  \n",
      "---  ------                  --------------  -----  \n",
      " 0   ResponsePriceID         60000 non-null  int64  \n",
      " 1   RequestLocationID       60000 non-null  int64  \n",
      " 2   localized_display_name  60000 non-null  object \n",
      " 3   distance                60000 non-null  float64\n",
      " 4   display_name            60000 non-null  object \n",
      " 5   product_id              60000 non-null  object \n",
      " 6   high_estimate           60000 non-null  int64  \n",
      " 7   surge_multiplier        60000 non-null  int64  \n",
      " 8   minimum                 0 non-null      float64\n",
      " 9   low_estimate            60000 non-null  int64  \n",
      " 10  duration                60000 non-null  int64  \n",
      " 11  estimatePrice           60000 non-null  object \n",
      " 12  estimateTime            60000 non-null  int64  \n",
      " 13  currency_code           60000 non-null  object \n",
      " 14  date                    60000 non-null  object \n",
      " 15  time                    60000 non-null  object \n",
      " 16  datetime                60000 non-null  object \n",
      "dtypes: float64(2), int64(7), object(8)\n",
      "memory usage: 8.2+ MB\n"
     ]
    }
   ],
   "source": [
    "df50k = pd.read_csv('Consulta_50000_uber_def.csv',sep=';', decimal=\",\")\n",
    "df10k = pd.read_csv('Consulta_10000_uber_def.csv',sep=';', decimal=\",\")\n",
    "\n",
    "df = pd.concat([df50k,df10k])\n",
    "\n",
    "df.info()"
   ]
  },
  {
   "cell_type": "code",
   "execution_count": 53,
   "id": "6c565577",
   "metadata": {
    "scrolled": true
   },
   "outputs": [
    {
     "data": {
      "text/html": [
       "<div>\n",
       "<style scoped>\n",
       "    .dataframe tbody tr th:only-of-type {\n",
       "        vertical-align: middle;\n",
       "    }\n",
       "\n",
       "    .dataframe tbody tr th {\n",
       "        vertical-align: top;\n",
       "    }\n",
       "\n",
       "    .dataframe thead th {\n",
       "        text-align: right;\n",
       "    }\n",
       "</style>\n",
       "<table border=\"1\" class=\"dataframe\">\n",
       "  <thead>\n",
       "    <tr style=\"text-align: right;\">\n",
       "      <th></th>\n",
       "      <th>ResponsePriceID</th>\n",
       "      <th>RequestLocationID</th>\n",
       "      <th>localized_display_name</th>\n",
       "      <th>distance</th>\n",
       "      <th>display_name</th>\n",
       "      <th>product_id</th>\n",
       "      <th>high_estimate</th>\n",
       "      <th>surge_multiplier</th>\n",
       "      <th>minimum</th>\n",
       "      <th>low_estimate</th>\n",
       "      <th>duration</th>\n",
       "      <th>estimatePrice</th>\n",
       "      <th>estimateTime</th>\n",
       "      <th>currency_code</th>\n",
       "      <th>date</th>\n",
       "      <th>time</th>\n",
       "      <th>datetime</th>\n",
       "    </tr>\n",
       "  </thead>\n",
       "  <tbody>\n",
       "    <tr>\n",
       "      <th>0</th>\n",
       "      <td>366</td>\n",
       "      <td>19256</td>\n",
       "      <td>UberX</td>\n",
       "      <td>21.99</td>\n",
       "      <td>UberX</td>\n",
       "      <td>84b66fec-3a48-4e62-b403-2fb9a420900a</td>\n",
       "      <td>86</td>\n",
       "      <td>0</td>\n",
       "      <td>NaN</td>\n",
       "      <td>69</td>\n",
       "      <td>3300</td>\n",
       "      <td>R$69-86</td>\n",
       "      <td>420</td>\n",
       "      <td>UberX</td>\n",
       "      <td>14/08/2018</td>\n",
       "      <td>19:30:27</td>\n",
       "      <td>14/08/2018 19:30</td>\n",
       "    </tr>\n",
       "    <tr>\n",
       "      <th>1</th>\n",
       "      <td>366</td>\n",
       "      <td>19256</td>\n",
       "      <td>UberX</td>\n",
       "      <td>21.99</td>\n",
       "      <td>UberX</td>\n",
       "      <td>84b66fec-3a48-4e62-b403-2fb9a420900a</td>\n",
       "      <td>86</td>\n",
       "      <td>0</td>\n",
       "      <td>NaN</td>\n",
       "      <td>69</td>\n",
       "      <td>3300</td>\n",
       "      <td>R$69-86</td>\n",
       "      <td>540</td>\n",
       "      <td>UberX</td>\n",
       "      <td>14/08/2018</td>\n",
       "      <td>19:30:27</td>\n",
       "      <td>14/08/2018 19:30</td>\n",
       "    </tr>\n",
       "    <tr>\n",
       "      <th>2</th>\n",
       "      <td>374</td>\n",
       "      <td>19256</td>\n",
       "      <td>Select</td>\n",
       "      <td>21.99</td>\n",
       "      <td>Select</td>\n",
       "      <td>6b332194-01f3-4845-9719-a59f85e3ef3b</td>\n",
       "      <td>93</td>\n",
       "      <td>0</td>\n",
       "      <td>NaN</td>\n",
       "      <td>76</td>\n",
       "      <td>3300</td>\n",
       "      <td>R$76-93</td>\n",
       "      <td>420</td>\n",
       "      <td>Select</td>\n",
       "      <td>14/08/2018</td>\n",
       "      <td>19:30:36</td>\n",
       "      <td>14/08/2018 19:30</td>\n",
       "    </tr>\n",
       "    <tr>\n",
       "      <th>3</th>\n",
       "      <td>374</td>\n",
       "      <td>19256</td>\n",
       "      <td>Select</td>\n",
       "      <td>21.99</td>\n",
       "      <td>Select</td>\n",
       "      <td>6b332194-01f3-4845-9719-a59f85e3ef3b</td>\n",
       "      <td>93</td>\n",
       "      <td>0</td>\n",
       "      <td>NaN</td>\n",
       "      <td>76</td>\n",
       "      <td>3300</td>\n",
       "      <td>R$76-93</td>\n",
       "      <td>540</td>\n",
       "      <td>Select</td>\n",
       "      <td>14/08/2018</td>\n",
       "      <td>19:30:36</td>\n",
       "      <td>14/08/2018 19:30</td>\n",
       "    </tr>\n",
       "    <tr>\n",
       "      <th>4</th>\n",
       "      <td>439</td>\n",
       "      <td>19256</td>\n",
       "      <td>Black</td>\n",
       "      <td>21.99</td>\n",
       "      <td>Black</td>\n",
       "      <td>7a400fa1-e332-4ccc-b081-fa0615ca8c8a</td>\n",
       "      <td>125</td>\n",
       "      <td>0</td>\n",
       "      <td>NaN</td>\n",
       "      <td>101</td>\n",
       "      <td>3300</td>\n",
       "      <td>R$101-125</td>\n",
       "      <td>420</td>\n",
       "      <td>Black</td>\n",
       "      <td>14/08/2018</td>\n",
       "      <td>19:30:38</td>\n",
       "      <td>14/08/2018 19:30</td>\n",
       "    </tr>\n",
       "    <tr>\n",
       "      <th>...</th>\n",
       "      <td>...</td>\n",
       "      <td>...</td>\n",
       "      <td>...</td>\n",
       "      <td>...</td>\n",
       "      <td>...</td>\n",
       "      <td>...</td>\n",
       "      <td>...</td>\n",
       "      <td>...</td>\n",
       "      <td>...</td>\n",
       "      <td>...</td>\n",
       "      <td>...</td>\n",
       "      <td>...</td>\n",
       "      <td>...</td>\n",
       "      <td>...</td>\n",
       "      <td>...</td>\n",
       "      <td>...</td>\n",
       "      <td>...</td>\n",
       "    </tr>\n",
       "    <tr>\n",
       "      <th>9995</th>\n",
       "      <td>4641</td>\n",
       "      <td>19948</td>\n",
       "      <td>Select</td>\n",
       "      <td>9.70</td>\n",
       "      <td>Select</td>\n",
       "      <td>6b332194-01f3-4845-9719-a59f85e3ef3b</td>\n",
       "      <td>49</td>\n",
       "      <td>0</td>\n",
       "      <td>NaN</td>\n",
       "      <td>39</td>\n",
       "      <td>2520</td>\n",
       "      <td>R$39-49</td>\n",
       "      <td>480</td>\n",
       "      <td>Select</td>\n",
       "      <td>14/08/2018</td>\n",
       "      <td>19:33:16</td>\n",
       "      <td>14/08/2018 19:33</td>\n",
       "    </tr>\n",
       "    <tr>\n",
       "      <th>9996</th>\n",
       "      <td>4642</td>\n",
       "      <td>19947</td>\n",
       "      <td>Select</td>\n",
       "      <td>9.92</td>\n",
       "      <td>Select</td>\n",
       "      <td>6b332194-01f3-4845-9719-a59f85e3ef3b</td>\n",
       "      <td>49</td>\n",
       "      <td>0</td>\n",
       "      <td>NaN</td>\n",
       "      <td>39</td>\n",
       "      <td>2400</td>\n",
       "      <td>R$39-49</td>\n",
       "      <td>540</td>\n",
       "      <td>Select</td>\n",
       "      <td>14/08/2018</td>\n",
       "      <td>19:33:16</td>\n",
       "      <td>14/08/2018 19:33</td>\n",
       "    </tr>\n",
       "    <tr>\n",
       "      <th>9997</th>\n",
       "      <td>4642</td>\n",
       "      <td>19947</td>\n",
       "      <td>Select</td>\n",
       "      <td>9.92</td>\n",
       "      <td>Select</td>\n",
       "      <td>6b332194-01f3-4845-9719-a59f85e3ef3b</td>\n",
       "      <td>49</td>\n",
       "      <td>0</td>\n",
       "      <td>NaN</td>\n",
       "      <td>39</td>\n",
       "      <td>2400</td>\n",
       "      <td>R$39-49</td>\n",
       "      <td>240</td>\n",
       "      <td>Select</td>\n",
       "      <td>14/08/2018</td>\n",
       "      <td>19:33:16</td>\n",
       "      <td>14/08/2018 19:33</td>\n",
       "    </tr>\n",
       "    <tr>\n",
       "      <th>9998</th>\n",
       "      <td>4642</td>\n",
       "      <td>19947</td>\n",
       "      <td>Select</td>\n",
       "      <td>9.92</td>\n",
       "      <td>Select</td>\n",
       "      <td>6b332194-01f3-4845-9719-a59f85e3ef3b</td>\n",
       "      <td>49</td>\n",
       "      <td>0</td>\n",
       "      <td>NaN</td>\n",
       "      <td>39</td>\n",
       "      <td>2400</td>\n",
       "      <td>R$39-49</td>\n",
       "      <td>240</td>\n",
       "      <td>Select</td>\n",
       "      <td>14/08/2018</td>\n",
       "      <td>19:33:16</td>\n",
       "      <td>14/08/2018 19:33</td>\n",
       "    </tr>\n",
       "    <tr>\n",
       "      <th>9999</th>\n",
       "      <td>4646</td>\n",
       "      <td>20047</td>\n",
       "      <td>Bag</td>\n",
       "      <td>17.83</td>\n",
       "      <td>Bag</td>\n",
       "      <td>c0a6bfa8-a9fd-48a8-9183-7c0dedbf58a2</td>\n",
       "      <td>80</td>\n",
       "      <td>0</td>\n",
       "      <td>NaN</td>\n",
       "      <td>65</td>\n",
       "      <td>4200</td>\n",
       "      <td>R$65-80</td>\n",
       "      <td>1380</td>\n",
       "      <td>Bag</td>\n",
       "      <td>14/08/2018</td>\n",
       "      <td>19:33:16</td>\n",
       "      <td>14/08/2018 19:33</td>\n",
       "    </tr>\n",
       "  </tbody>\n",
       "</table>\n",
       "<p>60000 rows × 17 columns</p>\n",
       "</div>"
      ],
      "text/plain": [
       "      ResponsePriceID  RequestLocationID localized_display_name  distance  \\\n",
       "0                 366              19256                  UberX     21.99   \n",
       "1                 366              19256                  UberX     21.99   \n",
       "2                 374              19256                 Select     21.99   \n",
       "3                 374              19256                 Select     21.99   \n",
       "4                 439              19256                  Black     21.99   \n",
       "...               ...                ...                    ...       ...   \n",
       "9995             4641              19948                 Select      9.70   \n",
       "9996             4642              19947                 Select      9.92   \n",
       "9997             4642              19947                 Select      9.92   \n",
       "9998             4642              19947                 Select      9.92   \n",
       "9999             4646              20047                    Bag     17.83   \n",
       "\n",
       "     display_name                            product_id  high_estimate  \\\n",
       "0           UberX  84b66fec-3a48-4e62-b403-2fb9a420900a             86   \n",
       "1           UberX  84b66fec-3a48-4e62-b403-2fb9a420900a             86   \n",
       "2          Select  6b332194-01f3-4845-9719-a59f85e3ef3b             93   \n",
       "3          Select  6b332194-01f3-4845-9719-a59f85e3ef3b             93   \n",
       "4           Black  7a400fa1-e332-4ccc-b081-fa0615ca8c8a            125   \n",
       "...           ...                                   ...            ...   \n",
       "9995       Select  6b332194-01f3-4845-9719-a59f85e3ef3b             49   \n",
       "9996       Select  6b332194-01f3-4845-9719-a59f85e3ef3b             49   \n",
       "9997       Select  6b332194-01f3-4845-9719-a59f85e3ef3b             49   \n",
       "9998       Select  6b332194-01f3-4845-9719-a59f85e3ef3b             49   \n",
       "9999          Bag  c0a6bfa8-a9fd-48a8-9183-7c0dedbf58a2             80   \n",
       "\n",
       "      surge_multiplier  minimum  low_estimate  duration estimatePrice  \\\n",
       "0                    0      NaN            69      3300       R$69-86   \n",
       "1                    0      NaN            69      3300       R$69-86   \n",
       "2                    0      NaN            76      3300       R$76-93   \n",
       "3                    0      NaN            76      3300       R$76-93   \n",
       "4                    0      NaN           101      3300     R$101-125   \n",
       "...                ...      ...           ...       ...           ...   \n",
       "9995                 0      NaN            39      2520       R$39-49   \n",
       "9996                 0      NaN            39      2400       R$39-49   \n",
       "9997                 0      NaN            39      2400       R$39-49   \n",
       "9998                 0      NaN            39      2400       R$39-49   \n",
       "9999                 0      NaN            65      4200       R$65-80   \n",
       "\n",
       "      estimateTime currency_code        date      time          datetime  \n",
       "0              420         UberX  14/08/2018  19:30:27  14/08/2018 19:30  \n",
       "1              540         UberX  14/08/2018  19:30:27  14/08/2018 19:30  \n",
       "2              420        Select  14/08/2018  19:30:36  14/08/2018 19:30  \n",
       "3              540        Select  14/08/2018  19:30:36  14/08/2018 19:30  \n",
       "4              420         Black  14/08/2018  19:30:38  14/08/2018 19:30  \n",
       "...            ...           ...         ...       ...               ...  \n",
       "9995           480        Select  14/08/2018  19:33:16  14/08/2018 19:33  \n",
       "9996           540        Select  14/08/2018  19:33:16  14/08/2018 19:33  \n",
       "9997           240        Select  14/08/2018  19:33:16  14/08/2018 19:33  \n",
       "9998           240        Select  14/08/2018  19:33:16  14/08/2018 19:33  \n",
       "9999          1380           Bag  14/08/2018  19:33:16  14/08/2018 19:33  \n",
       "\n",
       "[60000 rows x 17 columns]"
      ]
     },
     "execution_count": 53,
     "metadata": {},
     "output_type": "execute_result"
    }
   ],
   "source": [
    "df"
   ]
  },
  {
   "cell_type": "markdown",
   "id": "8ee4e5c3",
   "metadata": {},
   "source": [
    "#### 1 - Descreva a quantidade de produtos mapeados\n",
    "\n",
    "Foram 7 produtos no total"
   ]
  },
  {
   "cell_type": "code",
   "execution_count": 54,
   "id": "dc0bf518",
   "metadata": {},
   "outputs": [
    {
     "data": {
      "text/plain": [
       "7"
      ]
     },
     "execution_count": 54,
     "metadata": {},
     "output_type": "execute_result"
    }
   ],
   "source": [
    "df['display_name'].nunique()"
   ]
  },
  {
   "cell_type": "code",
   "execution_count": 55,
   "id": "7da2f83f",
   "metadata": {},
   "outputs": [
    {
     "data": {
      "text/plain": [
       "UberX        10239\n",
       "Select       10023\n",
       "Black         9645\n",
       "Bag           9446\n",
       "Black Bag     9165\n",
       "Bike Rack     8915\n",
       "Pool          2567\n",
       "Name: display_name, dtype: int64"
      ]
     },
     "execution_count": 55,
     "metadata": {},
     "output_type": "execute_result"
    }
   ],
   "source": [
    "df['display_name'].value_counts()"
   ]
  },
  {
   "cell_type": "markdown",
   "id": "3c50f592",
   "metadata": {},
   "source": [
    "##### 2 - Valor médio de uma corrida\n",
    "57.93245"
   ]
  },
  {
   "cell_type": "code",
   "execution_count": 56,
   "id": "cee95897",
   "metadata": {},
   "outputs": [
    {
     "data": {
      "text/plain": [
       "0        77.5\n",
       "1        77.5\n",
       "2        84.5\n",
       "3        84.5\n",
       "4       113.0\n",
       "        ...  \n",
       "9995     44.0\n",
       "9996     44.0\n",
       "9997     44.0\n",
       "9998     44.0\n",
       "9999     72.5\n",
       "Length: 60000, dtype: float64"
      ]
     },
     "execution_count": 56,
     "metadata": {},
     "output_type": "execute_result"
    }
   ],
   "source": [
    "df['valor_medio'] = df[['high_estimate', 'low_estimate']].mean(axis=1)\n",
    "valor_medio"
   ]
  },
  {
   "cell_type": "code",
   "execution_count": 57,
   "id": "f6c17a06",
   "metadata": {},
   "outputs": [
    {
     "data": {
      "text/plain": [
       "57.93245"
      ]
     },
     "execution_count": 57,
     "metadata": {},
     "output_type": "execute_result"
    }
   ],
   "source": [
    "valor_medio_corrida = valor_medio.mean()\n",
    "valor_medio_corrida"
   ]
  },
  {
   "cell_type": "markdown",
   "id": "91b11222",
   "metadata": {},
   "source": [
    "#####    3 - Valor médio por localidade e por produto"
   ]
  },
  {
   "cell_type": "code",
   "execution_count": 58,
   "id": "c5777ba1",
   "metadata": {},
   "outputs": [
    {
     "data": {
      "text/plain": [
       "RequestLocationID  display_name\n",
       "19256              Bag              91.0\n",
       "                   Bike Rack        81.5\n",
       "                   Black           113.0\n",
       "                   Black Bag       133.0\n",
       "                   Select           84.5\n",
       "                                   ...  \n",
       "22576              Black Bag       112.5\n",
       "                   Select           69.0\n",
       "                   UberX            59.5\n",
       "22577              Select           68.5\n",
       "                   UberX            59.5\n",
       "Name: valor_medio, Length: 15421, dtype: float64"
      ]
     },
     "execution_count": 58,
     "metadata": {},
     "output_type": "execute_result"
    }
   ],
   "source": [
    "df.groupby(['RequestLocationID','display_name']).mean()['valor_medio']"
   ]
  },
  {
   "cell_type": "markdown",
   "id": "31d44723",
   "metadata": {},
   "source": [
    "##### 4 -Tempo médio por Localidade"
   ]
  },
  {
   "cell_type": "code",
   "execution_count": 60,
   "id": "9523da3c",
   "metadata": {},
   "outputs": [
    {
     "data": {
      "text/plain": [
       "RequestLocationID\n",
       "19256    480.000000\n",
       "19257    300.000000\n",
       "19258    480.000000\n",
       "19259    780.000000\n",
       "19260    300.000000\n",
       "            ...    \n",
       "22573    180.000000\n",
       "22574    276.000000\n",
       "22575    276.000000\n",
       "22576    264.000000\n",
       "22577    231.428571\n",
       "Name: estimateTime, Length: 2627, dtype: float64"
      ]
     },
     "execution_count": 60,
     "metadata": {},
     "output_type": "execute_result"
    }
   ],
   "source": [
    "df.groupby('RequestLocationID').mean()['estimateTime']"
   ]
  },
  {
   "cell_type": "markdown",
   "id": "79c88ee7",
   "metadata": {},
   "source": [
    "#####    5 - Km médio por localidade"
   ]
  },
  {
   "cell_type": "code",
   "execution_count": 63,
   "id": "45bc390e",
   "metadata": {},
   "outputs": [
    {
     "data": {
      "text/plain": [
       "RequestLocationID\n",
       "19256    21.99\n",
       "19257    21.72\n",
       "19258    21.16\n",
       "19259    28.87\n",
       "19260    22.14\n",
       "         ...  \n",
       "22573    14.28\n",
       "22574    14.51\n",
       "22575    14.66\n",
       "22576    20.01\n",
       "22577    19.68\n",
       "Name: distance, Length: 2627, dtype: float64"
      ]
     },
     "execution_count": 63,
     "metadata": {},
     "output_type": "execute_result"
    }
   ],
   "source": [
    "df.groupby('RequestLocationID').mean()['distance']"
   ]
  },
  {
   "cell_type": "markdown",
   "id": "ce20bae8",
   "metadata": {},
   "source": [
    "#####   6 - Valor médio por dia e por produto\n"
   ]
  },
  {
   "cell_type": "code",
   "execution_count": 66,
   "id": "a9be3f84",
   "metadata": {},
   "outputs": [
    {
     "data": {
      "text/plain": [
       "date        display_name\n",
       "14/08/2018  Bag             55.362058\n",
       "            Bike Rack       50.305440\n",
       "            Black           69.954121\n",
       "            Black Bag       84.580524\n",
       "            Pool            22.131671\n",
       "            Select          52.549287\n",
       "            UberX           46.012550\n",
       "Name: valor_medio, dtype: float64"
      ]
     },
     "execution_count": 66,
     "metadata": {},
     "output_type": "execute_result"
    }
   ],
   "source": [
    "df.groupby(['date','display_name']).mean()['valor_medio']"
   ]
  },
  {
   "cell_type": "markdown",
   "id": "61b7f2c2",
   "metadata": {},
   "source": [
    "#####   7 -  Tempo médio por dia\n"
   ]
  },
  {
   "cell_type": "code",
   "execution_count": 67,
   "id": "ce3bc746",
   "metadata": {},
   "outputs": [
    {
     "data": {
      "text/plain": [
       "date\n",
       "14/08/2018    350.114\n",
       "Name: estimateTime, dtype: float64"
      ]
     },
     "execution_count": 67,
     "metadata": {},
     "output_type": "execute_result"
    }
   ],
   "source": [
    "df.groupby('date').mean()['estimateTime']"
   ]
  },
  {
   "cell_type": "markdown",
   "id": "cc22ff18",
   "metadata": {},
   "source": [
    "##### 8 - Km médio por dia"
   ]
  },
  {
   "cell_type": "code",
   "execution_count": 68,
   "id": "8cdd9b0b",
   "metadata": {},
   "outputs": [
    {
     "data": {
      "text/plain": [
       "date\n",
       "14/08/2018    13.07439\n",
       "Name: distance, dtype: float64"
      ]
     },
     "execution_count": 68,
     "metadata": {},
     "output_type": "execute_result"
    }
   ],
   "source": [
    "df.groupby('date').mean()['distance']"
   ]
  }
 ],
 "metadata": {
  "kernelspec": {
   "display_name": "Python 3 (ipykernel)",
   "language": "python",
   "name": "python3"
  },
  "language_info": {
   "codemirror_mode": {
    "name": "ipython",
    "version": 3
   },
   "file_extension": ".py",
   "mimetype": "text/x-python",
   "name": "python",
   "nbconvert_exporter": "python",
   "pygments_lexer": "ipython3",
   "version": "3.9.12"
  }
 },
 "nbformat": 4,
 "nbformat_minor": 5
}
